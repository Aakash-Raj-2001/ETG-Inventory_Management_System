{
  "nbformat": 4,
  "nbformat_minor": 0,
  "metadata": {
    "colab": {
      "name": "Selling_Products.ipynb",
      "provenance": [],
      "collapsed_sections": [],
      "authorship_tag": "ABX9TyNleh21rYqWlYc9JGedti/u",
      "include_colab_link": true
    },
    "kernelspec": {
      "name": "python3",
      "display_name": "Python 3"
    },
    "language_info": {
      "name": "python"
    }
  },
  "cells": [
    {
      "cell_type": "markdown",
      "metadata": {
        "id": "view-in-github",
        "colab_type": "text"
      },
      "source": [
        "<a href=\"https://colab.research.google.com/github/Aakash-Raj-2001/ETG-Inventory_Management_System/blob/main/Selling_Products.ipynb\" target=\"_parent\"><img src=\"https://colab.research.google.com/assets/colab-badge.svg\" alt=\"Open In Colab\"/></a>"
      ]
    },
    {
      "cell_type": "markdown",
      "metadata": {
        "id": "XHsagdOQOK2A"
      },
      "source": [
        "**Code for Selling Products**"
      ]
    },
    {
      "cell_type": "code",
      "metadata": {
        "id": "2VPR0bPrD_Ef"
      },
      "source": [
        "#reading records file\n",
        "import json\n",
        "\n",
        "fd = open(\"record.json\",'r')\n",
        "r = fd.read()\n",
        "fd.close()"
      ],
      "execution_count": 3,
      "outputs": []
    },
    {
      "cell_type": "code",
      "metadata": {
        "id": "v3n7ypVgF3Qa"
      },
      "source": [
        "record = json.loads(r)"
      ],
      "execution_count": 4,
      "outputs": []
    },
    {
      "cell_type": "code",
      "metadata": {
        "colab": {
          "base_uri": "https://localhost:8080/"
        },
        "id": "dl4frGZWGLtt",
        "outputId": "be9b9526-4eab-4419-c0af-dd408be4626c"
      },
      "source": [
        "record"
      ],
      "execution_count": 5,
      "outputs": [
        {
          "output_type": "execute_result",
          "data": {
            "text/plain": [
              "{'1001': {'brand': 'Britannia',\n",
              "  'expiry': '20 oct 2023',\n",
              "  'name': 'Choco Cake ',\n",
              "  'price': 30,\n",
              "  'quan': 50},\n",
              " '1002': {'brand': 'Britannia',\n",
              "  'expiry': '12 jan 2022',\n",
              "  'name': 'Milk cake',\n",
              "  'price': 20,\n",
              "  'quan': 130},\n",
              " '1003': {'brand': 'Red Bull',\n",
              "  'expiry': '10 mar 2023',\n",
              "  'name': 'Drink',\n",
              "  'price': 48,\n",
              "  'quan': 145},\n",
              " '1004': {'brand': 'Parle',\n",
              "  'expiry': '23 jun 2023',\n",
              "  'name': 'Candy',\n",
              "  'price': 52,\n",
              "  'quan': 122},\n",
              " '1005': {'brand': 'Linc',\n",
              "  'expiry': '30 oct 2022',\n",
              "  'name': 'Pen',\n",
              "  'price': 285,\n",
              "  'quan': 30},\n",
              " '1006': {'brand': 'Samsung',\n",
              "  'expiry': '29 jan 2022',\n",
              "  'name': 'Mobile',\n",
              "  'price': 10000,\n",
              "  'quan': 58},\n",
              " '1007': {'brand': 'HyperX',\n",
              "  'expiry': '31 aug 2022',\n",
              "  'name': 'Mic',\n",
              "  'price': 1000,\n",
              "  'quan': 59},\n",
              " '1008': {'brand': 'Samsung',\n",
              "  'expiry': '21 feb 2022',\n",
              "  'name': 'Case',\n",
              "  'price': 90,\n",
              "  'quan': 90},\n",
              " '1009': {'brand': 'Logitech',\n",
              "  'expiry': '28 dec 2021',\n",
              "  'name': 'Keyboard',\n",
              "  'price': 500,\n",
              "  'quan': 95},\n",
              " '1010': {'brand': 'Dettol',\n",
              "  'expiry': '01 jun 2022',\n",
              "  'name': 'Sanitizer',\n",
              "  'price': 110,\n",
              "  'quan': 95},\n",
              " '1011': {'brand': 'Lays',\n",
              "  'expiry': '23 Oct 2023',\n",
              "  'name': 'Chips',\n",
              "  'price': 10,\n",
              "  'quan': 100},\n",
              " '1012': {'brand': 'Colgate',\n",
              "  'expiry': '15 September 2023',\n",
              "  'name': 'ToothPaste',\n",
              "  'price': 30,\n",
              "  'quan': 100},\n",
              " '1013': {'brand': 'Real',\n",
              "  'expiry': '12 June 2023',\n",
              "  'name': 'Juice',\n",
              "  'price': 60,\n",
              "  'quan': 200},\n",
              " '1014': {'brand': 'Amul',\n",
              "  'expiry': '18 August 2023',\n",
              "  'name': 'Yogurt',\n",
              "  'price': 55,\n",
              "  'quan': 80},\n",
              " '1015': {'brand': 'Pepsi',\n",
              "  'expiry': '15 August 2024',\n",
              "  'name': 'Pepsi Can',\n",
              "  'price': 30,\n",
              "  'quan': 300},\n",
              " '1016': {'brand': 'Pepsico',\n",
              "  'expiry': '19 September 2023',\n",
              "  'name': 'Sprite Cold Drink',\n",
              "  'price': 40,\n",
              "  'quan': 240},\n",
              " '1017': {'brand': \"Kellogg's\",\n",
              "  'expiry': '12 July 2023',\n",
              "  'name': \"Kellogg's Choco's\",\n",
              "  'price': 80,\n",
              "  'quan': 324},\n",
              " '1018': {'brand': 'Dettol',\n",
              "  'expiry': '12 December 2024',\n",
              "  'name': 'Dettol Handwash',\n",
              "  'price': 45,\n",
              "  'quan': 150},\n",
              " '1019': {'brand': 'Fortune',\n",
              "  'expiry': '02 May 2023',\n",
              "  'name': 'Cooking Oil',\n",
              "  'price': 99,\n",
              "  'quan': 174},\n",
              " '1020': {'brand': 'Aashirwaad',\n",
              "  'expiry': '28 October 2024',\n",
              "  'name': 'Wheat Flour',\n",
              "  'price': 399,\n",
              "  'quan': 320},\n",
              " '1021': {'brand': 'India Gate',\n",
              "  'expiry': '09 March 2024',\n",
              "  'name': 'Rice',\n",
              "  'price': 498,\n",
              "  'quan': 100},\n",
              " '1022': {'brand': 'veeba',\n",
              "  'expiry': '29 April 2023',\n",
              "  'name': 'Mayonese',\n",
              "  'price': 78,\n",
              "  'quan': 200},\n",
              " '1023': {'brand': 'Sony',\n",
              "  'expiry': 'None',\n",
              "  'name': 'Headphones',\n",
              "  'price': 599,\n",
              "  'quan': 299},\n",
              " '1024': {'brand': 'Dove',\n",
              "  'expiry': '20 June 205',\n",
              "  'name': 'Body Soap',\n",
              "  'price': 44,\n",
              "  'quan': 122},\n",
              " '1025': {'brand': 'Nature Fresh',\n",
              "  'expiry': '24 August 2023',\n",
              "  'name': 'Sugar',\n",
              "  'price': 44,\n",
              "  'quan': 400},\n",
              " '1026': {'brand': ' Kissan',\n",
              "  'expiry': '30 June 2024',\n",
              "  'name': 'Tomato Sauce',\n",
              "  'price': 108,\n",
              "  'quan': 150},\n",
              " '1027': {'brand': 'Sunfeast',\n",
              "  'expiry': '25 July 2023',\n",
              "  'name': 'Biscuit',\n",
              "  'price': 30,\n",
              "  'quan': 300},\n",
              " '1028': {'brand': 'Haldiram',\n",
              "  'expiry': '26 March 2023',\n",
              "  'name': 'namkeen',\n",
              "  'price': 40,\n",
              "  'quan': 200},\n",
              " '1029': {'brand': 'parle',\n",
              "  'expiry': '23 May 2023',\n",
              "  'name': 'Toffee',\n",
              "  'price': 20,\n",
              "  'quan': 100},\n",
              " '1030': {'brand': 'Nivea',\n",
              "  'expiry': '24 March 2024',\n",
              "  'name': 'Face Wash',\n",
              "  'price': 100,\n",
              "  'quan': 120}}"
            ]
          },
          "metadata": {},
          "execution_count": 5
        }
      ]
    },
    {
      "cell_type": "code",
      "metadata": {
        "colab": {
          "base_uri": "https://localhost:8080/"
        },
        "id": "fASuLAOdGMZO",
        "outputId": "4b07d5d8-edb6-47f6-9ff2-4203be2828c7"
      },
      "source": [
        "#user input commands\n",
        "print(\"Welcome to Big Apple\")\n",
        "\n",
        "wrong=True;\n",
        "while(wrong):\n",
        "  ui_prod = input(\"Enter the product Id: \")\n",
        "  ui_quan = int(input(\"Enter the quantity of the Product: \"))\n",
        "\n",
        "  for i in record.keys():\n",
        "      while ui_prod == i:\n",
        "          if ui_quan <= record[i]['quan']:\n",
        "              print(\"****************************************\")\n",
        "              print(\"             product:\",record[ui_prod]['name'])\n",
        "              print(\"               price:\",record[ui_prod]['price'])\n",
        "              print(\"         Expiry date:\",record[ui_prod]['expiry'])\n",
        "              print(\" Manufacturing Brand:\",record[ui_prod]['brand'])\n",
        "              print(\"****************************************\")\n",
        "              print(\"*-*-*-*-*-BILLING DETAILS:-*-*-*-*-* \")\n",
        "              print(\"Total Amount:Rs.\",record[ui_prod]['price']*ui_quan) \n",
        "              print(\"Enjoy Your Day\")\n",
        "              print(\"Thank You. Visit Again\")\n",
        "              print(\"****************************************\")\n",
        "              record[ui_prod][\"quan\"] = record[ui_prod][\"quan\"] - ui_quan\n",
        "              wrong=False\n",
        "          else:\n",
        "              print(\"Sorry. Stock of product you enterd is: \",record[ui_prod]['quan'],\"\\nPlease accept our apologies for this inconvenience\")\n",
        "          break\n",
        "  if ui_prod not in record.keys():\n",
        "    print(\"Sorry. No product found for ID: \",ui_prod,\"\\Please enter valid product ID\")\n",
        "\n",
        "  js = json.dumps(record)\n"
      ],
      "execution_count": 56,
      "outputs": [
        {
          "output_type": "stream",
          "name": "stdout",
          "text": [
            "Welcome to Big Apple\n",
            "Enter the product Id: 1018\n",
            "Enter the quantity of the Product: 9\n",
            "****************************************\n",
            "             product: Dettol Handwash\n",
            "               price: 45\n",
            "         Expiry date: 12 December 2024\n",
            " Manufacturing Brand: Dettol\n",
            "****************************************\n",
            "*-*-*-*-*-BILLING DETAILS:-*-*-*-*-* \n",
            "Total Amount:Rs. 405\n",
            "Enjoy Your Day\n",
            "Thank You. Visit Again\n",
            "****************************************\n"
          ]
        }
      ]
    },
    {
      "cell_type": "code",
      "metadata": {
        "id": "9qe0n7a3Jj2T"
      },
      "source": [
        "fd = open(\"record.json\",'w')\n",
        "fd.write(js)\n",
        "fd.close()"
      ],
      "execution_count": 50,
      "outputs": []
    },
    {
      "cell_type": "code",
      "metadata": {
        "id": "6wCdNuDuJvfI"
      },
      "source": [
        "## The sold items information is stored on sales.json\n",
        "fd = open(\"sales.json\",'r')\n",
        "trans = fd.read()\n",
        "fd.close()"
      ],
      "execution_count": 51,
      "outputs": []
    },
    {
      "cell_type": "markdown",
      "metadata": {
        "id": "bZQtbM4zbjAz"
      },
      "source": [
        "**Update Inventory after products sale**"
      ]
    },
    {
      "cell_type": "code",
      "metadata": {
        "id": "9aH24zMZMB_E"
      },
      "source": [
        "sales = json.loads(trans)\n",
        "num = len(sales)+1\n",
        "\n",
        "sales[num] = {'prod':ui_prod, 'quan' : ui_quan, 'amount': record[ui_prod]['price'] * ui_quan}\n",
        "sale = json.dumps(sales)\n",
        "\n",
        "fd = open(\"sales.json\",'w')\n",
        "fd.write(sale)\n",
        "fd.close()"
      ],
      "execution_count": 52,
      "outputs": []
    }
  ]
}