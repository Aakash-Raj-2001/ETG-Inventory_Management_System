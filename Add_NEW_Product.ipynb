{
  "nbformat": 4,
  "nbformat_minor": 0,
  "metadata": {
    "colab": {
      "name": "Add_NEW_Product.ipynb",
      "provenance": [],
      "collapsed_sections": [],
      "authorship_tag": "ABX9TyP64KzY630mJbsz/uEW2ECh",
      "include_colab_link": true
    },
    "kernelspec": {
      "name": "python3",
      "display_name": "Python 3"
    },
    "language_info": {
      "name": "python"
    }
  },
  "cells": [
    {
      "cell_type": "markdown",
      "metadata": {
        "id": "view-in-github",
        "colab_type": "text"
      },
      "source": [
        "<a href=\"https://colab.research.google.com/github/Aakash-Raj-2001/ETG-Inventory_Management_System/blob/main/Add_NEW_Product.ipynb\" target=\"_parent\"><img src=\"https://colab.research.google.com/assets/colab-badge.svg\" alt=\"Open In Colab\"/></a>"
      ]
    },
    {
      "cell_type": "code",
      "metadata": {
        "id": "6eZ928eSxwqG"
      },
      "source": [
        "#Adding Initial Products in record\n",
        "record = {\n",
        "    1001 : {\"name\":\"Choco Cake \",             \"price\":30,  \"quan\":50,  \"expiry\":\"20 oct 2023\",  \"brand\":\"Britannia\"},\n",
        "    1002 : {\"name\":\"Milk cake\",               \"price\":20,   \"quan\":130, \"expiry\":\"12 jan 2022\",  \"brand\":\"Britannia\"},\n",
        "    1003 : {\"name\":\"Drink\",                   \"price\":48,   \"quan\":145, \"expiry\":\"10 mar 2023\",  \"brand\":\"Red Bull\"},\n",
        "    1004 : {\"name\":\"Candy\",                   \"price\":52,   \"quan\":122, \"expiry\":\"23 jun 2023\",  \"brand\":\"Parle\"},\n",
        "    1005 : {\"name\":\"Pen\",                     \"price\":285,  \"quan\":30,  \"expiry\":\"30 oct 2022\",  \"brand\":\"Linc\"},\n",
        "    1006 : {\"name\":\"Mobile\",                  \"price\":10000,  \"quan\":58,  \"expiry\":\"29 jan 2022\",  \"brand\":\"Samsung\"},\n",
        "    1007 : {\"name\":\"Mic\",                     \"price\":1000,   \"quan\":59,  \"expiry\":\"31 aug 2022\",  \"brand\":\"HyperX\"},\n",
        "    1008 : {\"name\":\"Case\",                    \"price\":90,    \"quan\":90,  \"expiry\":\"21 feb 2022\",  \"brand\":\"Samsung\"},\n",
        "    1009 : {\"name\":\"Keyboard\",                \"price\":500,   \"quan\":95,  \"expiry\":\"28 dec 2021\",  \"brand\":\"Logitech\"},\n",
        "    1010 : {\"name\":\"Sanitizer\",               \"price\":110,  \"quan\":95,  \"expiry\":\"01 jun 2022\",  \"brand\":\"Dettol\"}\n",
        "}"
      ],
      "execution_count": 5,
      "outputs": []
    },
    {
      "cell_type": "code",
      "metadata": {
        "id": "l66l3ajNzlQC"
      },
      "source": [
        "import json"
      ],
      "execution_count": 2,
      "outputs": []
    },
    {
      "cell_type": "code",
      "metadata": {
        "id": "4iqzQuTm0R4C"
      },
      "source": [
        "js = json.dumps(record)"
      ],
      "execution_count": 6,
      "outputs": []
    },
    {
      "cell_type": "code",
      "metadata": {
        "id": "jnjsZGu70bBY"
      },
      "source": [
        "fd = open(\"record.json\",\"w\")\n",
        "fd.write(js)\n",
        "fd.close()"
      ],
      "execution_count": 7,
      "outputs": []
    },
    {
      "cell_type": "markdown",
      "metadata": {
        "id": "gIRd7ght3Akv"
      },
      "source": [
        "**Read Data from JSON**"
      ]
    },
    {
      "cell_type": "code",
      "metadata": {
        "id": "EdDotEmY2Gb3"
      },
      "source": [
        "#command to read data from JSON\n",
        "fd = open(\"record.json\",'r')\n",
        "\n",
        "r = fd.read()\n",
        "\n",
        "fd.close()\n"
      ],
      "execution_count": 8,
      "outputs": []
    },
    {
      "cell_type": "code",
      "metadata": {
        "id": "FITrX_yk2WK9"
      },
      "source": [
        "record = json.loads(r)"
      ],
      "execution_count": 9,
      "outputs": []
    },
    {
      "cell_type": "code",
      "metadata": {
        "colab": {
          "base_uri": "https://localhost:8080/"
        },
        "id": "HN-5tOhI2fta",
        "outputId": "6b4f1f5e-2929-4730-f6c0-8be8ea5fadbf"
      },
      "source": [
        "record"
      ],
      "execution_count": 10,
      "outputs": [
        {
          "output_type": "execute_result",
          "data": {
            "text/plain": [
              "{'1001': {'brand': 'Britannia',\n",
              "  'expiry': '20 oct 2023',\n",
              "  'name': 'Choco Cake ',\n",
              "  'price': 30,\n",
              "  'quan': 50},\n",
              " '1002': {'brand': 'Britannia',\n",
              "  'expiry': '12 jan 2022',\n",
              "  'name': 'Milk cake',\n",
              "  'price': 20,\n",
              "  'quan': 130},\n",
              " '1003': {'brand': 'Red Bull',\n",
              "  'expiry': '10 mar 2023',\n",
              "  'name': 'Drink',\n",
              "  'price': 48,\n",
              "  'quan': 145},\n",
              " '1004': {'brand': 'Parle',\n",
              "  'expiry': '23 jun 2023',\n",
              "  'name': 'Candy',\n",
              "  'price': 52,\n",
              "  'quan': 122},\n",
              " '1005': {'brand': 'Linc',\n",
              "  'expiry': '30 oct 2022',\n",
              "  'name': 'Pen',\n",
              "  'price': 285,\n",
              "  'quan': 30},\n",
              " '1006': {'brand': 'Samsung',\n",
              "  'expiry': '29 jan 2022',\n",
              "  'name': 'Mobile',\n",
              "  'price': 10000,\n",
              "  'quan': 58},\n",
              " '1007': {'brand': 'HyperX',\n",
              "  'expiry': '31 aug 2022',\n",
              "  'name': 'Mic',\n",
              "  'price': 1000,\n",
              "  'quan': 59},\n",
              " '1008': {'brand': 'Samsung',\n",
              "  'expiry': '21 feb 2022',\n",
              "  'name': 'Case',\n",
              "  'price': 90,\n",
              "  'quan': 90},\n",
              " '1009': {'brand': 'Logitech',\n",
              "  'expiry': '28 dec 2021',\n",
              "  'name': 'Keyboard',\n",
              "  'price': 500,\n",
              "  'quan': 95},\n",
              " '1010': {'brand': 'Dettol',\n",
              "  'expiry': '01 jun 2022',\n",
              "  'name': 'Sanitizer',\n",
              "  'price': 110,\n",
              "  'quan': 95}}"
            ]
          },
          "metadata": {},
          "execution_count": 10
        }
      ]
    },
    {
      "cell_type": "code",
      "metadata": {
        "colab": {
          "base_uri": "https://localhost:8080/"
        },
        "id": "-213WLN64om0",
        "outputId": "a3d31853-de6b-4ee5-c132-1f83342da9a0"
      },
      "source": [
        "prod_id = input(\"Enter the Product ID: \")\n",
        "name = input(\"Enter the Name of the Product: \")\n",
        "price = int(input(\"Enter the price per Item: \"))\n",
        "quan = int(input(\"Enter The Quantity of the Product you want to add: \"))\n",
        "expiry = input(\"Enter the expiry date of the Product: \")\n",
        "brand = input(\"Enter the Brand of the product: \")\n",
        "\n",
        "record[prod_id] = {\"name\":name,\"price\":price,\"quan\":quan,\"expiry\":expiry,\"brand\":brand}\n",
        "\n",
        "js = json.dumps(record)\n",
        "\n",
        "fd = open(\"record.json\",\"w\")\n",
        "fd.write(js)\n",
        "fd.close()"
      ],
      "execution_count": 39,
      "outputs": [
        {
          "name": "stdout",
          "output_type": "stream",
          "text": [
            "Enter the Product ID: 1030\n",
            "Enter the Name of the Product: Face Wash\n",
            "Enter the price per Item: 100\n",
            "Enter The Quantity of the Product you want to add: 120\n",
            "Enter the expiry date of the Product: 24 March 2024\n",
            "Enter the Brand of the product: Nivea\n"
          ]
        }
      ]
    },
    {
      "cell_type": "code",
      "metadata": {
        "colab": {
          "base_uri": "https://localhost:8080/"
        },
        "id": "P6FfC4IU59iq",
        "outputId": "e6337b2e-e192-400a-bfaf-61d0e9f83f4f"
      },
      "source": [
        "record"
      ],
      "execution_count": 40,
      "outputs": [
        {
          "output_type": "execute_result",
          "data": {
            "text/plain": [
              "{'1001': {'brand': 'Britannia',\n",
              "  'expiry': '20 oct 2023',\n",
              "  'name': 'Choco Cake ',\n",
              "  'price': 30,\n",
              "  'quan': 50},\n",
              " '1002': {'brand': 'Britannia',\n",
              "  'expiry': '12 jan 2022',\n",
              "  'name': 'Milk cake',\n",
              "  'price': 20,\n",
              "  'quan': 130},\n",
              " '1003': {'brand': 'Red Bull',\n",
              "  'expiry': '10 mar 2023',\n",
              "  'name': 'Drink',\n",
              "  'price': 48,\n",
              "  'quan': 145},\n",
              " '1004': {'brand': 'Parle',\n",
              "  'expiry': '23 jun 2023',\n",
              "  'name': 'Candy',\n",
              "  'price': 52,\n",
              "  'quan': 122},\n",
              " '1005': {'brand': 'Linc',\n",
              "  'expiry': '30 oct 2022',\n",
              "  'name': 'Pen',\n",
              "  'price': 285,\n",
              "  'quan': 30},\n",
              " '1006': {'brand': 'Samsung',\n",
              "  'expiry': '29 jan 2022',\n",
              "  'name': 'Mobile',\n",
              "  'price': 10000,\n",
              "  'quan': 58},\n",
              " '1007': {'brand': 'HyperX',\n",
              "  'expiry': '31 aug 2022',\n",
              "  'name': 'Mic',\n",
              "  'price': 1000,\n",
              "  'quan': 59},\n",
              " '1008': {'brand': 'Samsung',\n",
              "  'expiry': '21 feb 2022',\n",
              "  'name': 'Case',\n",
              "  'price': 90,\n",
              "  'quan': 90},\n",
              " '1009': {'brand': 'Logitech',\n",
              "  'expiry': '28 dec 2021',\n",
              "  'name': 'Keyboard',\n",
              "  'price': 500,\n",
              "  'quan': 95},\n",
              " '1010': {'brand': 'Dettol',\n",
              "  'expiry': '01 jun 2022',\n",
              "  'name': 'Sanitizer',\n",
              "  'price': 110,\n",
              "  'quan': 95},\n",
              " '1011': {'brand': 'Lays',\n",
              "  'expiry': '23 Oct 2023',\n",
              "  'name': 'Chips',\n",
              "  'price': 10,\n",
              "  'quan': 100},\n",
              " '1012': {'brand': 'Colgate',\n",
              "  'expiry': '15 September 2023',\n",
              "  'name': 'ToothPaste',\n",
              "  'price': 30,\n",
              "  'quan': 100},\n",
              " '1013': {'brand': 'Real',\n",
              "  'expiry': '12 June 2023',\n",
              "  'name': 'Juice',\n",
              "  'price': 60,\n",
              "  'quan': 200},\n",
              " '1014': {'brand': 'Amul',\n",
              "  'expiry': '18 August 2023',\n",
              "  'name': 'Yogurt',\n",
              "  'price': 55,\n",
              "  'quan': 80},\n",
              " '1015': {'brand': 'Pepsi',\n",
              "  'expiry': '15 August 2024',\n",
              "  'name': 'Pepsi Can',\n",
              "  'price': 30,\n",
              "  'quan': 300},\n",
              " '1016': {'brand': 'Pepsico',\n",
              "  'expiry': '19 September 2023',\n",
              "  'name': 'Sprite Cold Drink',\n",
              "  'price': 40,\n",
              "  'quan': 240},\n",
              " '1017': {'brand': \"Kellogg's\",\n",
              "  'expiry': '12 July 2023',\n",
              "  'name': \"Kellogg's Choco's\",\n",
              "  'price': 80,\n",
              "  'quan': 324},\n",
              " '1018': {'brand': 'Dettol',\n",
              "  'expiry': '12 December 2024',\n",
              "  'name': 'Dettol Handwash',\n",
              "  'price': 45,\n",
              "  'quan': 150},\n",
              " '1019': {'brand': 'Fortune',\n",
              "  'expiry': '02 May 2023',\n",
              "  'name': 'Cooking Oil',\n",
              "  'price': 99,\n",
              "  'quan': 174},\n",
              " '1020': {'brand': 'Aashirwaad',\n",
              "  'expiry': '28 October 2024',\n",
              "  'name': 'Wheat Flour',\n",
              "  'price': 399,\n",
              "  'quan': 320},\n",
              " '1021': {'brand': 'India Gate',\n",
              "  'expiry': '09 March 2024',\n",
              "  'name': 'Rice',\n",
              "  'price': 498,\n",
              "  'quan': 100},\n",
              " '1022': {'brand': 'veeba',\n",
              "  'expiry': '29 April 2023',\n",
              "  'name': 'Mayonese',\n",
              "  'price': 78,\n",
              "  'quan': 200},\n",
              " '1023': {'brand': 'Sony',\n",
              "  'expiry': 'None',\n",
              "  'name': 'Headphones',\n",
              "  'price': 599,\n",
              "  'quan': 299},\n",
              " '1024': {'brand': 'Dove',\n",
              "  'expiry': '20 June 205',\n",
              "  'name': 'Body Soap',\n",
              "  'price': 44,\n",
              "  'quan': 122},\n",
              " '1025': {'brand': 'Nature Fresh',\n",
              "  'expiry': '24 August 2023',\n",
              "  'name': 'Sugar',\n",
              "  'price': 44,\n",
              "  'quan': 400},\n",
              " '1026': {'brand': ' Kissan',\n",
              "  'expiry': '30 June 2024',\n",
              "  'name': 'Tomato Sauce',\n",
              "  'price': 108,\n",
              "  'quan': 150},\n",
              " '1027': {'brand': 'Sunfeast',\n",
              "  'expiry': '25 July 2023',\n",
              "  'name': 'Biscuit',\n",
              "  'price': 30,\n",
              "  'quan': 300},\n",
              " '1028': {'brand': 'Haldiram',\n",
              "  'expiry': '26 March 2023',\n",
              "  'name': 'namkeen',\n",
              "  'price': 40,\n",
              "  'quan': 200},\n",
              " '1029': {'brand': 'parle',\n",
              "  'expiry': '23 May 2023',\n",
              "  'name': 'Toffee',\n",
              "  'price': 20,\n",
              "  'quan': 100},\n",
              " '1030': {'brand': 'Nivea',\n",
              "  'expiry': '24 March 2024',\n",
              "  'name': 'Face Wash',\n",
              "  'price': 100,\n",
              "  'quan': 120}}"
            ]
          },
          "metadata": {},
          "execution_count": 40
        }
      ]
    },
    {
      "cell_type": "code",
      "metadata": {
        "id": "NRein06b7HeD"
      },
      "source": [
        ""
      ],
      "execution_count": null,
      "outputs": []
    }
  ]
}